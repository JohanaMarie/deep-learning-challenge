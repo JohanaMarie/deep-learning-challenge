{
 "cells": [
  {
   "cell_type": "code",
   "execution_count": 35,
   "metadata": {},
   "outputs": [
    {
     "data": {
      "text/html": [
       "<div>\n",
       "<style scoped>\n",
       "    .dataframe tbody tr th:only-of-type {\n",
       "        vertical-align: middle;\n",
       "    }\n",
       "\n",
       "    .dataframe tbody tr th {\n",
       "        vertical-align: top;\n",
       "    }\n",
       "\n",
       "    .dataframe thead th {\n",
       "        text-align: right;\n",
       "    }\n",
       "</style>\n",
       "<table border=\"1\" class=\"dataframe\">\n",
       "  <thead>\n",
       "    <tr style=\"text-align: right;\">\n",
       "      <th></th>\n",
       "      <th>EIN</th>\n",
       "      <th>NAME</th>\n",
       "      <th>APPLICATION_TYPE</th>\n",
       "      <th>AFFILIATION</th>\n",
       "      <th>CLASSIFICATION</th>\n",
       "      <th>USE_CASE</th>\n",
       "      <th>ORGANIZATION</th>\n",
       "      <th>STATUS</th>\n",
       "      <th>INCOME_AMT</th>\n",
       "      <th>SPECIAL_CONSIDERATIONS</th>\n",
       "      <th>ASK_AMT</th>\n",
       "      <th>IS_SUCCESSFUL</th>\n",
       "    </tr>\n",
       "  </thead>\n",
       "  <tbody>\n",
       "    <tr>\n",
       "      <th>0</th>\n",
       "      <td>10520599</td>\n",
       "      <td>BLUE KNIGHTS MOTORCYCLE CLUB</td>\n",
       "      <td>T10</td>\n",
       "      <td>Independent</td>\n",
       "      <td>C1000</td>\n",
       "      <td>ProductDev</td>\n",
       "      <td>Association</td>\n",
       "      <td>1</td>\n",
       "      <td>0</td>\n",
       "      <td>N</td>\n",
       "      <td>5000</td>\n",
       "      <td>1</td>\n",
       "    </tr>\n",
       "    <tr>\n",
       "      <th>1</th>\n",
       "      <td>10531628</td>\n",
       "      <td>AMERICAN CHESAPEAKE CLUB CHARITABLE TR</td>\n",
       "      <td>T3</td>\n",
       "      <td>Independent</td>\n",
       "      <td>C2000</td>\n",
       "      <td>Preservation</td>\n",
       "      <td>Co-operative</td>\n",
       "      <td>1</td>\n",
       "      <td>1-9999</td>\n",
       "      <td>N</td>\n",
       "      <td>108590</td>\n",
       "      <td>1</td>\n",
       "    </tr>\n",
       "    <tr>\n",
       "      <th>2</th>\n",
       "      <td>10547893</td>\n",
       "      <td>ST CLOUD PROFESSIONAL FIREFIGHTERS</td>\n",
       "      <td>T5</td>\n",
       "      <td>CompanySponsored</td>\n",
       "      <td>C3000</td>\n",
       "      <td>ProductDev</td>\n",
       "      <td>Association</td>\n",
       "      <td>1</td>\n",
       "      <td>0</td>\n",
       "      <td>N</td>\n",
       "      <td>5000</td>\n",
       "      <td>0</td>\n",
       "    </tr>\n",
       "    <tr>\n",
       "      <th>3</th>\n",
       "      <td>10553066</td>\n",
       "      <td>SOUTHSIDE ATHLETIC ASSOCIATION</td>\n",
       "      <td>T3</td>\n",
       "      <td>CompanySponsored</td>\n",
       "      <td>C2000</td>\n",
       "      <td>Preservation</td>\n",
       "      <td>Trust</td>\n",
       "      <td>1</td>\n",
       "      <td>10000-24999</td>\n",
       "      <td>N</td>\n",
       "      <td>6692</td>\n",
       "      <td>1</td>\n",
       "    </tr>\n",
       "    <tr>\n",
       "      <th>4</th>\n",
       "      <td>10556103</td>\n",
       "      <td>GENETIC RESEARCH INSTITUTE OF THE DESERT</td>\n",
       "      <td>T3</td>\n",
       "      <td>Independent</td>\n",
       "      <td>C1000</td>\n",
       "      <td>Heathcare</td>\n",
       "      <td>Trust</td>\n",
       "      <td>1</td>\n",
       "      <td>100000-499999</td>\n",
       "      <td>N</td>\n",
       "      <td>142590</td>\n",
       "      <td>1</td>\n",
       "    </tr>\n",
       "  </tbody>\n",
       "</table>\n",
       "</div>"
      ],
      "text/plain": [
       "        EIN                                      NAME APPLICATION_TYPE  \\\n",
       "0  10520599              BLUE KNIGHTS MOTORCYCLE CLUB              T10   \n",
       "1  10531628    AMERICAN CHESAPEAKE CLUB CHARITABLE TR               T3   \n",
       "2  10547893        ST CLOUD PROFESSIONAL FIREFIGHTERS               T5   \n",
       "3  10553066            SOUTHSIDE ATHLETIC ASSOCIATION               T3   \n",
       "4  10556103  GENETIC RESEARCH INSTITUTE OF THE DESERT               T3   \n",
       "\n",
       "        AFFILIATION CLASSIFICATION      USE_CASE  ORGANIZATION  STATUS  \\\n",
       "0       Independent          C1000    ProductDev   Association       1   \n",
       "1       Independent          C2000  Preservation  Co-operative       1   \n",
       "2  CompanySponsored          C3000    ProductDev   Association       1   \n",
       "3  CompanySponsored          C2000  Preservation         Trust       1   \n",
       "4       Independent          C1000     Heathcare         Trust       1   \n",
       "\n",
       "      INCOME_AMT SPECIAL_CONSIDERATIONS  ASK_AMT  IS_SUCCESSFUL  \n",
       "0              0                      N     5000              1  \n",
       "1         1-9999                      N   108590              1  \n",
       "2              0                      N     5000              0  \n",
       "3    10000-24999                      N     6692              1  \n",
       "4  100000-499999                      N   142590              1  "
      ]
     },
     "execution_count": 35,
     "metadata": {},
     "output_type": "execute_result"
    }
   ],
   "source": [
    "#Import your dependencies and read in the charity_data.csv to a Pandas DataFrame.\n",
    "# Import our dependencies\n",
    "from sklearn.model_selection import train_test_split\n",
    "from sklearn.preprocessing import StandardScaler\n",
    "import pandas as pd\n",
    "import tensorflow as tf\n",
    "\n",
    "#  Import and read the charity_data.csv.\n",
    "import pandas as pd \n",
    "optimization_df = pd.read_csv(\"https://static.bc-edx.com/data/dl-1-2/m21/lms/starter/charity_data.csv\")\n",
    "optimization_df.head()"
   ]
  },
  {
   "cell_type": "markdown",
   "metadata": {},
   "source": [
    "# Preprocess the dataset as you did in Step 1. Be sure to adjust for any modifications that came out of optimizing the model."
   ]
  },
  {
   "cell_type": "code",
   "execution_count": 36,
   "metadata": {},
   "outputs": [],
   "source": [
    "# Drop the non-beneficial ID columns, 'EIN' and 'NAME'.\n",
    "optimization_df.drop(columns=['EIN', 'NAME'], inplace=True)"
   ]
  },
  {
   "cell_type": "code",
   "execution_count": 37,
   "metadata": {},
   "outputs": [
    {
     "data": {
      "text/plain": [
       "Index(['APPLICATION_TYPE', 'AFFILIATION', 'CLASSIFICATION', 'USE_CASE',\n",
       "       'ORGANIZATION', 'STATUS', 'INCOME_AMT', 'SPECIAL_CONSIDERATIONS',\n",
       "       'ASK_AMT', 'IS_SUCCESSFUL'],\n",
       "      dtype='object')"
      ]
     },
     "execution_count": 37,
     "metadata": {},
     "output_type": "execute_result"
    }
   ],
   "source": [
    "optimization_df.columns"
   ]
  },
  {
   "cell_type": "code",
   "execution_count": 40,
   "metadata": {},
   "outputs": [],
   "source": [
    "# Choose a cutoff value and create a list of application types to be replaced\n",
    "cutoff_value_app = 500 \n",
    "application_type_counts = optimization_df['APPLICATION_TYPE'].value_counts() \n",
    "application_types_to_replace = application_type_counts[application_type_counts < cutoff_value_app].index.tolist() \n",
    "optimization_df['APPLICATION_TYPE'] = optimization_df['APPLICATION_TYPE'].apply(lambda x: 'Other' if x in application_types_to_replace else x)\n",
    "\n",
    "# rare classifications\n",
    "cutoff_value_cls = 1000\n",
    "classification_counts = optimization_df['CLASSIFICATION'].value_counts() \n",
    "classifications_to_replace = classification_counts[classification_counts <= cutoff_value_cls].index.tolist()\n",
    "optimization_df['CLASSIFICATION'] = optimization_df['CLASSIFICATION'].apply(lambda x: 'Other' if x in classifications_to_replace else x)"
   ]
  },
  {
   "cell_type": "code",
   "execution_count": 41,
   "metadata": {},
   "outputs": [
    {
     "data": {
      "text/plain": [
       "CLASSIFICATION\n",
       "C1000    17326\n",
       "C2000     6074\n",
       "C1200     4837\n",
       "Other     2261\n",
       "C3000     1918\n",
       "C2100     1883\n",
       "Name: count, dtype: int64"
      ]
     },
     "execution_count": 41,
     "metadata": {},
     "output_type": "execute_result"
    }
   ],
   "source": [
    "# Look at CLASSIFICATION value counts for binning\n",
    "classification_counts = optimization_df['CLASSIFICATION'].value_counts()\n",
    "classification_counts"
   ]
  },
  {
   "cell_type": "code",
   "execution_count": 8,
   "metadata": {},
   "outputs": [],
   "source": [
    "# scale\n",
    "scaler = StandardScaler()\n",
    "X_scaled = scaler.fit_transform(optimization_df.drop(columns=['IS_SUCCESSFUL']))\n",
    "y = optimization_df['IS_SUCCESSFUL']\n",
    "# datat split\n",
    "X_train, X_test, y_train, y_test = train_test_split(X_scaled, y)"
   ]
  },
  {
   "cell_type": "code",
   "execution_count": 46,
   "metadata": {},
   "outputs": [],
   "source": [
    "# Convert categorical data to numeric with `pd.get_dummies`\n",
    "optimization_df_encoded = pd.get_dummies(optimization_df)"
   ]
  },
  {
   "cell_type": "code",
   "execution_count": 47,
   "metadata": {},
   "outputs": [],
   "source": [
    "# Split our preprocessed data into our features and target arrays\n",
    "# Split the data into features (X) and target (y)\n",
    "X = optimization_df_encoded.drop(columns=['IS_SUCCESSFUL'])\n",
    "y = optimization_df_encoded['IS_SUCCESSFUL']\n",
    "\n",
    "# Split the preprocessed data into a training and testing dataset\n",
    "X_train, X_test, y_train, y_test = train_test_split(X, y)"
   ]
  },
  {
   "cell_type": "code",
   "execution_count": 48,
   "metadata": {},
   "outputs": [],
   "source": [
    "# Create a StandardScaler instances\n",
    "scaler = StandardScaler()\n",
    "\n",
    "# Fit the StandardScaler\n",
    "X_scaler = scaler.fit(X_train)\n",
    "\n",
    "# Scale the data\n",
    "X_train_scaled = X_scaler.transform(X_train)\n",
    "X_test_scaled = X_scaler.transform(X_test)"
   ]
  },
  {
   "cell_type": "code",
   "execution_count": 50,
   "metadata": {},
   "outputs": [
    {
     "name": "stdout",
     "output_type": "stream",
     "text": [
      "X_train shape: (25724, 43)\n",
      "X_test shape: (8575, 43)\n",
      "y_train shape: (25724,)\n",
      "y_test shape: (8575,)\n"
     ]
    }
   ],
   "source": [
    "# Check the shapes of training and testing datasets\n",
    "print(\"X_train shape:\", X_train_scaled.shape)\n",
    "print(\"X_test shape:\", X_test_scaled.shape)\n",
    "print(\"y_train shape:\", y_train.shape)\n",
    "print(\"y_test shape:\", y_test.shape)"
   ]
  },
  {
   "cell_type": "markdown",
   "metadata": {},
   "source": [
    "## Compile, Train and Evaluate the Model"
   ]
  },
  {
   "cell_type": "code",
   "execution_count": 74,
   "metadata": {},
   "outputs": [
    {
     "name": "stdout",
     "output_type": "stream",
     "text": [
      "Model: \"sequential_3\"\n",
      "_________________________________________________________________\n",
      " Layer (type)                Output Shape              Param #   \n",
      "=================================================================\n",
      " dense_11 (Dense)            (None, 150)               6600      \n",
      "                                                                 \n",
      " dense_12 (Dense)            (None, 100)               15100     \n",
      "                                                                 \n",
      " dense_13 (Dense)            (None, 50)                5050      \n",
      "                                                                 \n",
      " dense_14 (Dense)            (None, 1)                 51        \n",
      "                                                                 \n",
      "=================================================================\n",
      "Total params: 26801 (104.69 KB)\n",
      "Trainable params: 26801 (104.69 KB)\n",
      "Non-trainable params: 0 (0.00 Byte)\n",
      "_________________________________________________________________\n"
     ]
    }
   ],
   "source": [
    "# Define the model - deep neural net\n",
    "# hidden layer 3 was added for a better accuracy\n",
    "number_input_features = len(X_train_scaled[0])\n",
    "hidden_nodes_layer1 = 150\n",
    "hidden_nodes_layer2 = 100\n",
    "hidden_nodes_layer3 = 50\n",
    "\n",
    "nn = tf.keras.models.Sequential()\n",
    "\n",
    "# First hidden layer\n",
    "nn.add(tf.keras.layers.Dense(units=hidden_nodes_layer1, input_dim=number_input_features, activation=\"relu\"))\n",
    "\n",
    "# Second hidden layer\n",
    "nn.add(tf.keras.layers.Dense(units=hidden_nodes_layer2, activation=\"relu\"))\n",
    "\n",
    "# Additional hidden layer\n",
    "nn.add(tf.keras.layers.Dense(units=hidden_nodes_layer3, activation=\"relu\"))\n",
    "\n",
    "# Output layer\n",
    "nn.add(tf.keras.layers.Dense(units=1, activation=\"sigmoid\"))\n",
    "\n",
    "# Compile the model with a different learning rate\n",
    "nn.compile(loss=\"binary_crossentropy\", optimizer=tf.keras.optimizers.Adam(learning_rate=0.001), metrics=[\"accuracy\"])\n",
    "\n",
    "# Check the structure of the model\n",
    "nn.summary()"
   ]
  },
  {
   "cell_type": "code",
   "execution_count": 75,
   "metadata": {},
   "outputs": [],
   "source": [
    "# Compile the model\n",
    "## \"Adam\" was beblow 75%\n",
    "## \"SGD\" was below 75%\n",
    "## \"RMSprop\" was below 75%\n",
    "## because of this layers were ajusted and the models were run again\n",
    "\n",
    "nn.compile(loss=\"binary_crossentropy\", optimizer=\"Adam\", metrics=[\"accuracy\"])"
   ]
  },
  {
   "cell_type": "code",
   "execution_count": 107,
   "metadata": {},
   "outputs": [
    {
     "name": "stdout",
     "output_type": "stream",
     "text": [
      "Epoch 1/100\n",
      "684/684 [==============================] - 2s 3ms/step - loss: 0.5526 - accuracy: 0.7335 - val_loss: 0.5510 - val_accuracy: 0.7327\n",
      "Epoch 2/100\n",
      "684/684 [==============================] - 1s 2ms/step - loss: 0.5505 - accuracy: 0.7326 - val_loss: 0.5475 - val_accuracy: 0.7340\n",
      "Epoch 3/100\n",
      "684/684 [==============================] - 1s 2ms/step - loss: 0.5479 - accuracy: 0.7325 - val_loss: 0.5485 - val_accuracy: 0.7317\n",
      "Epoch 4/100\n",
      "684/684 [==============================] - 2s 2ms/step - loss: 0.5477 - accuracy: 0.7347 - val_loss: 0.5452 - val_accuracy: 0.7346\n",
      "Epoch 5/100\n",
      "684/684 [==============================] - 1s 2ms/step - loss: 0.5466 - accuracy: 0.7336 - val_loss: 0.5469 - val_accuracy: 0.7345\n",
      "Epoch 6/100\n",
      "684/684 [==============================] - 1s 2ms/step - loss: 0.5451 - accuracy: 0.7346 - val_loss: 0.5439 - val_accuracy: 0.7354\n",
      "Epoch 7/100\n",
      "684/684 [==============================] - 1s 2ms/step - loss: 0.5453 - accuracy: 0.7346 - val_loss: 0.5446 - val_accuracy: 0.7367\n",
      "Epoch 8/100\n",
      "684/684 [==============================] - 1s 2ms/step - loss: 0.5450 - accuracy: 0.7351 - val_loss: 0.5439 - val_accuracy: 0.7353\n",
      "Epoch 9/100\n",
      "684/684 [==============================] - 1s 2ms/step - loss: 0.5448 - accuracy: 0.7353 - val_loss: 0.5441 - val_accuracy: 0.7347\n",
      "Epoch 10/100\n",
      "684/684 [==============================] - 1s 2ms/step - loss: 0.5440 - accuracy: 0.7363 - val_loss: 0.5447 - val_accuracy: 0.7344\n",
      "Epoch 11/100\n",
      "684/684 [==============================] - 1s 2ms/step - loss: 0.5432 - accuracy: 0.7362 - val_loss: 0.5429 - val_accuracy: 0.7357\n",
      "Epoch 12/100\n",
      "684/684 [==============================] - 1s 2ms/step - loss: 0.5430 - accuracy: 0.7368 - val_loss: 0.5418 - val_accuracy: 0.7360\n",
      "Epoch 13/100\n",
      "684/684 [==============================] - 1s 2ms/step - loss: 0.5425 - accuracy: 0.7365 - val_loss: 0.5428 - val_accuracy: 0.7357\n",
      "Epoch 14/100\n",
      "684/684 [==============================] - 1s 2ms/step - loss: 0.5430 - accuracy: 0.7364 - val_loss: 0.5419 - val_accuracy: 0.7348\n",
      "Epoch 15/100\n",
      "684/684 [==============================] - 2s 2ms/step - loss: 0.5419 - accuracy: 0.7378 - val_loss: 0.5443 - val_accuracy: 0.7340\n",
      "Epoch 16/100\n",
      "684/684 [==============================] - 1s 2ms/step - loss: 0.5418 - accuracy: 0.7376 - val_loss: 0.5407 - val_accuracy: 0.7349\n",
      "Epoch 17/100\n",
      "684/684 [==============================] - 1s 2ms/step - loss: 0.5417 - accuracy: 0.7378 - val_loss: 0.5421 - val_accuracy: 0.7358\n",
      "Epoch 18/100\n",
      "684/684 [==============================] - 1s 2ms/step - loss: 0.5410 - accuracy: 0.7379 - val_loss: 0.5410 - val_accuracy: 0.7363\n",
      "Epoch 19/100\n",
      "684/684 [==============================] - 1s 2ms/step - loss: 0.5402 - accuracy: 0.7375 - val_loss: 0.5423 - val_accuracy: 0.7366\n",
      "Epoch 20/100\n",
      "684/684 [==============================] - 1s 2ms/step - loss: 0.5406 - accuracy: 0.7373 - val_loss: 0.5397 - val_accuracy: 0.7382\n",
      "Epoch 21/100\n",
      "684/684 [==============================] - 1s 2ms/step - loss: 0.5399 - accuracy: 0.7378 - val_loss: 0.5411 - val_accuracy: 0.7355\n",
      "Epoch 22/100\n",
      "684/684 [==============================] - 1s 2ms/step - loss: 0.5400 - accuracy: 0.7386 - val_loss: 0.5449 - val_accuracy: 0.7367\n",
      "Epoch 23/100\n",
      "684/684 [==============================] - 1s 2ms/step - loss: 0.5393 - accuracy: 0.7383 - val_loss: 0.5416 - val_accuracy: 0.7368\n",
      "Epoch 24/100\n",
      "684/684 [==============================] - 1s 2ms/step - loss: 0.5391 - accuracy: 0.7376 - val_loss: 0.5400 - val_accuracy: 0.7391\n",
      "Epoch 25/100\n",
      "684/684 [==============================] - 1s 2ms/step - loss: 0.5392 - accuracy: 0.7378 - val_loss: 0.5406 - val_accuracy: 0.7375\n",
      "Epoch 26/100\n",
      "684/684 [==============================] - 1s 2ms/step - loss: 0.5385 - accuracy: 0.7380 - val_loss: 0.5416 - val_accuracy: 0.7378\n",
      "Epoch 27/100\n",
      "684/684 [==============================] - 1s 2ms/step - loss: 0.5383 - accuracy: 0.7394 - val_loss: 0.5400 - val_accuracy: 0.7386\n",
      "Epoch 28/100\n",
      "684/684 [==============================] - 1s 2ms/step - loss: 0.5380 - accuracy: 0.7382 - val_loss: 0.5405 - val_accuracy: 0.7384\n",
      "Epoch 29/100\n",
      "684/684 [==============================] - 1s 2ms/step - loss: 0.5380 - accuracy: 0.7387 - val_loss: 0.5400 - val_accuracy: 0.7379\n",
      "Epoch 30/100\n",
      "684/684 [==============================] - 1s 2ms/step - loss: 0.5380 - accuracy: 0.7392 - val_loss: 0.5392 - val_accuracy: 0.7374\n",
      "Epoch 31/100\n",
      "684/684 [==============================] - 2s 3ms/step - loss: 0.5372 - accuracy: 0.7392 - val_loss: 0.5401 - val_accuracy: 0.7381\n",
      "Epoch 32/100\n",
      "684/684 [==============================] - 2s 3ms/step - loss: 0.5372 - accuracy: 0.7397 - val_loss: 0.5436 - val_accuracy: 0.7372\n",
      "Epoch 33/100\n",
      "684/684 [==============================] - 2s 3ms/step - loss: 0.5372 - accuracy: 0.7391 - val_loss: 0.5388 - val_accuracy: 0.7372\n",
      "Epoch 34/100\n",
      "684/684 [==============================] - 3s 4ms/step - loss: 0.5371 - accuracy: 0.7392 - val_loss: 0.5411 - val_accuracy: 0.7385\n",
      "Epoch 35/100\n",
      "684/684 [==============================] - 2s 3ms/step - loss: 0.5372 - accuracy: 0.7393 - val_loss: 0.5389 - val_accuracy: 0.7394\n",
      "Epoch 36/100\n",
      "684/684 [==============================] - 2s 3ms/step - loss: 0.5364 - accuracy: 0.7405 - val_loss: 0.5382 - val_accuracy: 0.7386\n",
      "Epoch 37/100\n",
      "684/684 [==============================] - 2s 3ms/step - loss: 0.5357 - accuracy: 0.7399 - val_loss: 0.5414 - val_accuracy: 0.7388\n",
      "Epoch 38/100\n",
      "684/684 [==============================] - 2s 3ms/step - loss: 0.5364 - accuracy: 0.7400 - val_loss: 0.5426 - val_accuracy: 0.7367\n",
      "Epoch 39/100\n",
      "684/684 [==============================] - 3s 4ms/step - loss: 0.5367 - accuracy: 0.7401 - val_loss: 0.5386 - val_accuracy: 0.7391\n",
      "Epoch 40/100\n",
      "684/684 [==============================] - 3s 4ms/step - loss: 0.5360 - accuracy: 0.7392 - val_loss: 0.5409 - val_accuracy: 0.7384\n",
      "Epoch 41/100\n",
      "684/684 [==============================] - 2s 3ms/step - loss: 0.5358 - accuracy: 0.7397 - val_loss: 0.5417 - val_accuracy: 0.7381\n",
      "Epoch 42/100\n",
      "684/684 [==============================] - 2s 3ms/step - loss: 0.5363 - accuracy: 0.7395 - val_loss: 0.5376 - val_accuracy: 0.7396\n",
      "Epoch 43/100\n",
      "684/684 [==============================] - 3s 4ms/step - loss: 0.5357 - accuracy: 0.7397 - val_loss: 0.5400 - val_accuracy: 0.7377\n",
      "Epoch 44/100\n",
      "684/684 [==============================] - 2s 3ms/step - loss: 0.5352 - accuracy: 0.7402 - val_loss: 0.5419 - val_accuracy: 0.7393\n",
      "Epoch 45/100\n",
      "684/684 [==============================] - 2s 3ms/step - loss: 0.5353 - accuracy: 0.7400 - val_loss: 0.5403 - val_accuracy: 0.7350\n",
      "Epoch 46/100\n",
      "684/684 [==============================] - 2s 3ms/step - loss: 0.5350 - accuracy: 0.7396 - val_loss: 0.5396 - val_accuracy: 0.7388\n",
      "Epoch 47/100\n",
      "684/684 [==============================] - 2s 3ms/step - loss: 0.5352 - accuracy: 0.7399 - val_loss: 0.5419 - val_accuracy: 0.7391\n",
      "Epoch 48/100\n",
      "684/684 [==============================] - 3s 4ms/step - loss: 0.5357 - accuracy: 0.7396 - val_loss: 0.5393 - val_accuracy: 0.7382\n",
      "Epoch 49/100\n",
      "684/684 [==============================] - 2s 3ms/step - loss: 0.5348 - accuracy: 0.7409 - val_loss: 0.5394 - val_accuracy: 0.7392\n",
      "Epoch 50/100\n",
      "684/684 [==============================] - 2s 3ms/step - loss: 0.5344 - accuracy: 0.7399 - val_loss: 0.5472 - val_accuracy: 0.7377\n",
      "Epoch 51/100\n",
      "684/684 [==============================] - 2s 3ms/step - loss: 0.5350 - accuracy: 0.7401 - val_loss: 0.5422 - val_accuracy: 0.7381\n",
      "Epoch 52/100\n",
      "684/684 [==============================] - 2s 4ms/step - loss: 0.5346 - accuracy: 0.7399 - val_loss: 0.5400 - val_accuracy: 0.7378\n",
      "Epoch 53/100\n",
      "684/684 [==============================] - 3s 4ms/step - loss: 0.5343 - accuracy: 0.7407 - val_loss: 0.5397 - val_accuracy: 0.7383\n",
      "Epoch 54/100\n",
      "684/684 [==============================] - 2s 3ms/step - loss: 0.5347 - accuracy: 0.7394 - val_loss: 0.5389 - val_accuracy: 0.7392\n",
      "Epoch 55/100\n",
      "684/684 [==============================] - 1s 2ms/step - loss: 0.5345 - accuracy: 0.7409 - val_loss: 0.5396 - val_accuracy: 0.7395\n",
      "Epoch 56/100\n",
      "684/684 [==============================] - 1s 2ms/step - loss: 0.5342 - accuracy: 0.7407 - val_loss: 0.5390 - val_accuracy: 0.7382\n",
      "Epoch 57/100\n",
      "684/684 [==============================] - 1s 2ms/step - loss: 0.5337 - accuracy: 0.7406 - val_loss: 0.5417 - val_accuracy: 0.7384\n",
      "Epoch 58/100\n",
      "684/684 [==============================] - 1s 2ms/step - loss: 0.5343 - accuracy: 0.7403 - val_loss: 0.5410 - val_accuracy: 0.7368\n",
      "Epoch 59/100\n",
      "684/684 [==============================] - 1s 2ms/step - loss: 0.5344 - accuracy: 0.7402 - val_loss: 0.5404 - val_accuracy: 0.7385\n",
      "Epoch 60/100\n",
      "684/684 [==============================] - 1s 2ms/step - loss: 0.5342 - accuracy: 0.7405 - val_loss: 0.5398 - val_accuracy: 0.7388\n",
      "Epoch 61/100\n",
      "684/684 [==============================] - 1s 2ms/step - loss: 0.5340 - accuracy: 0.7401 - val_loss: 0.5399 - val_accuracy: 0.7374\n",
      "Epoch 62/100\n",
      "684/684 [==============================] - 1s 2ms/step - loss: 0.5335 - accuracy: 0.7409 - val_loss: 0.5419 - val_accuracy: 0.7386\n",
      "Epoch 63/100\n",
      "684/684 [==============================] - 1s 2ms/step - loss: 0.5331 - accuracy: 0.7402 - val_loss: 0.5425 - val_accuracy: 0.7391\n",
      "Epoch 64/100\n",
      "684/684 [==============================] - 1s 2ms/step - loss: 0.5342 - accuracy: 0.7397 - val_loss: 0.5399 - val_accuracy: 0.7389\n",
      "Epoch 65/100\n",
      "684/684 [==============================] - 2s 2ms/step - loss: 0.5338 - accuracy: 0.7404 - val_loss: 0.5423 - val_accuracy: 0.7381\n",
      "Epoch 66/100\n",
      "684/684 [==============================] - 1s 2ms/step - loss: 0.5336 - accuracy: 0.7411 - val_loss: 0.5407 - val_accuracy: 0.7392\n",
      "Epoch 67/100\n",
      "684/684 [==============================] - 1s 2ms/step - loss: 0.5333 - accuracy: 0.7407 - val_loss: 0.5413 - val_accuracy: 0.7381\n",
      "Epoch 68/100\n",
      "684/684 [==============================] - 1s 2ms/step - loss: 0.5338 - accuracy: 0.7414 - val_loss: 0.5400 - val_accuracy: 0.7386\n",
      "Epoch 69/100\n",
      "684/684 [==============================] - 1s 2ms/step - loss: 0.5339 - accuracy: 0.7407 - val_loss: 0.5402 - val_accuracy: 0.7386\n",
      "Epoch 70/100\n",
      "684/684 [==============================] - 1s 2ms/step - loss: 0.5330 - accuracy: 0.7408 - val_loss: 0.5410 - val_accuracy: 0.7392\n",
      "Epoch 71/100\n",
      "684/684 [==============================] - 1s 2ms/step - loss: 0.5339 - accuracy: 0.7410 - val_loss: 0.5441 - val_accuracy: 0.7385\n",
      "Epoch 72/100\n",
      "684/684 [==============================] - 1s 2ms/step - loss: 0.5331 - accuracy: 0.7402 - val_loss: 0.5414 - val_accuracy: 0.7392\n",
      "Epoch 73/100\n",
      "684/684 [==============================] - 1s 2ms/step - loss: 0.5326 - accuracy: 0.7408 - val_loss: 0.5432 - val_accuracy: 0.7391\n",
      "Epoch 74/100\n",
      "684/684 [==============================] - 1s 2ms/step - loss: 0.5330 - accuracy: 0.7415 - val_loss: 0.5448 - val_accuracy: 0.7392\n",
      "Epoch 75/100\n",
      "684/684 [==============================] - 1s 2ms/step - loss: 0.5328 - accuracy: 0.7414 - val_loss: 0.5417 - val_accuracy: 0.7387\n",
      "Epoch 76/100\n",
      "684/684 [==============================] - 1s 2ms/step - loss: 0.5329 - accuracy: 0.7409 - val_loss: 0.5418 - val_accuracy: 0.7385\n",
      "Epoch 77/100\n",
      "684/684 [==============================] - 1s 2ms/step - loss: 0.5330 - accuracy: 0.7413 - val_loss: 0.5408 - val_accuracy: 0.7381\n",
      "Epoch 78/100\n",
      "684/684 [==============================] - 1s 2ms/step - loss: 0.5328 - accuracy: 0.7411 - val_loss: 0.5418 - val_accuracy: 0.7395\n",
      "Epoch 79/100\n",
      "684/684 [==============================] - 1s 2ms/step - loss: 0.5329 - accuracy: 0.7413 - val_loss: 0.5416 - val_accuracy: 0.7387\n",
      "Epoch 80/100\n",
      "684/684 [==============================] - 1s 2ms/step - loss: 0.5337 - accuracy: 0.7416 - val_loss: 0.5399 - val_accuracy: 0.7386\n",
      "Epoch 81/100\n",
      "684/684 [==============================] - 1s 2ms/step - loss: 0.5332 - accuracy: 0.7404 - val_loss: 0.5402 - val_accuracy: 0.7400\n",
      "Epoch 82/100\n",
      "684/684 [==============================] - 1s 2ms/step - loss: 0.5326 - accuracy: 0.7410 - val_loss: 0.5418 - val_accuracy: 0.7391\n",
      "Epoch 83/100\n",
      "684/684 [==============================] - 1s 2ms/step - loss: 0.5327 - accuracy: 0.7402 - val_loss: 0.5423 - val_accuracy: 0.7393\n",
      "Epoch 84/100\n",
      "684/684 [==============================] - 1s 2ms/step - loss: 0.5322 - accuracy: 0.7417 - val_loss: 0.5409 - val_accuracy: 0.7388\n",
      "Epoch 85/100\n",
      "684/684 [==============================] - 1s 2ms/step - loss: 0.5324 - accuracy: 0.7411 - val_loss: 0.5439 - val_accuracy: 0.7383\n",
      "Epoch 86/100\n",
      "684/684 [==============================] - 1s 2ms/step - loss: 0.5323 - accuracy: 0.7401 - val_loss: 0.5447 - val_accuracy: 0.7390\n",
      "Epoch 87/100\n",
      "684/684 [==============================] - 1s 2ms/step - loss: 0.5318 - accuracy: 0.7404 - val_loss: 0.5441 - val_accuracy: 0.7399\n",
      "Epoch 88/100\n",
      "684/684 [==============================] - 1s 2ms/step - loss: 0.5348 - accuracy: 0.7405 - val_loss: 0.5423 - val_accuracy: 0.7398\n",
      "Epoch 89/100\n",
      "684/684 [==============================] - 1s 2ms/step - loss: 0.5324 - accuracy: 0.7406 - val_loss: 0.5419 - val_accuracy: 0.7395\n",
      "Epoch 90/100\n",
      "684/684 [==============================] - 1s 2ms/step - loss: 0.5328 - accuracy: 0.7411 - val_loss: 0.5435 - val_accuracy: 0.7395\n",
      "Epoch 91/100\n",
      "684/684 [==============================] - 1s 2ms/step - loss: 0.5320 - accuracy: 0.7414 - val_loss: 0.5433 - val_accuracy: 0.7393\n",
      "Epoch 92/100\n",
      "684/684 [==============================] - 1s 2ms/step - loss: 0.5320 - accuracy: 0.7411 - val_loss: 0.5431 - val_accuracy: 0.7401\n",
      "Epoch 93/100\n",
      "684/684 [==============================] - 1s 2ms/step - loss: 0.5325 - accuracy: 0.7407 - val_loss: 0.5432 - val_accuracy: 0.7395\n",
      "Epoch 94/100\n",
      "684/684 [==============================] - 1s 2ms/step - loss: 0.5319 - accuracy: 0.7414 - val_loss: 0.5467 - val_accuracy: 0.7395\n",
      "Epoch 95/100\n",
      "684/684 [==============================] - 1s 2ms/step - loss: 0.5319 - accuracy: 0.7410 - val_loss: 0.5461 - val_accuracy: 0.7394\n",
      "Epoch 96/100\n",
      "684/684 [==============================] - 1s 2ms/step - loss: 0.5323 - accuracy: 0.7408 - val_loss: 0.5442 - val_accuracy: 0.7392\n",
      "Epoch 97/100\n",
      "684/684 [==============================] - 1s 2ms/step - loss: 0.5323 - accuracy: 0.7406 - val_loss: 0.5442 - val_accuracy: 0.7397\n",
      "Epoch 98/100\n",
      "684/684 [==============================] - 1s 2ms/step - loss: 0.5327 - accuracy: 0.7413 - val_loss: 0.5446 - val_accuracy: 0.7387\n",
      "Epoch 99/100\n",
      "684/684 [==============================] - 1s 2ms/step - loss: 0.5323 - accuracy: 0.7415 - val_loss: 0.5397 - val_accuracy: 0.7399\n",
      "Epoch 100/100\n",
      "684/684 [==============================] - 1s 2ms/step - loss: 0.5320 - accuracy: 0.7412 - val_loss: 0.5424 - val_accuracy: 0.7397\n"
     ]
    },
    {
     "data": {
      "text/plain": [
       "<keras.src.callbacks.History at 0x17621e4beb0>"
      ]
     },
     "execution_count": 107,
     "metadata": {},
     "output_type": "execute_result"
    }
   ],
   "source": [
    "# Train the model\n",
    "## had to add more epchos\n",
    "## added a validation_split=0.15\n",
    "nn.fit(X_train_scaled, y_train, epochs=100, verbose=1, validation_split=0.15)"
   ]
  },
  {
   "cell_type": "code",
   "execution_count": 108,
   "metadata": {},
   "outputs": [
    {
     "name": "stdout",
     "output_type": "stream",
     "text": [
      "268/268 - 0s - loss: 0.5905 - accuracy: 0.7278 - 302ms/epoch - 1ms/step\n",
      "The model accuracy is below 75%.\n"
     ]
    }
   ],
   "source": [
    "# Evaluate the model using the test data\n",
    "model_loss, model_accuracy = nn.evaluate(X_test_scaled,y_test,verbose=2)\n",
    "\n",
    "# Check if the accuracy meets the target\n",
    "target_accuracy = 0.75\n",
    "if model_accuracy >= target_accuracy:\n",
    "    print(\"Congratulations! The model accuracy is 75% or higher.\")\n",
    "else:\n",
    "    print(\"The model accuracy is below 75%.\")"
   ]
  },
  {
   "cell_type": "code",
   "execution_count": 55,
   "metadata": {},
   "outputs": [
    {
     "name": "stderr",
     "output_type": "stream",
     "text": [
      "c:\\Users\\johan\\anaconda3\\envs\\dev\\lib\\site-packages\\keras\\src\\engine\\training.py:3103: UserWarning: You are saving your model as an HDF5 file via `model.save()`. This file format is considered legacy. We recommend using instead the native Keras format, e.g. `model.save('my_model.keras')`.\n",
      "  saving_api.save_model(\n"
     ]
    }
   ],
   "source": [
    "# Export our model to HDF5 file\n",
    "nn.save(\"AlphabetSoupCharity_Optimization.h5\")"
   ]
  }
 ],
 "metadata": {
  "kernelspec": {
   "display_name": "dev",
   "language": "python",
   "name": "python3"
  },
  "language_info": {
   "codemirror_mode": {
    "name": "ipython",
    "version": 3
   },
   "file_extension": ".py",
   "mimetype": "text/x-python",
   "name": "python",
   "nbconvert_exporter": "python",
   "pygments_lexer": "ipython3",
   "version": "3.10.13"
  }
 },
 "nbformat": 4,
 "nbformat_minor": 2
}
